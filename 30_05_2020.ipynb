{
  "nbformat": 4,
  "nbformat_minor": 0,
  "metadata": {
    "colab": {
      "name": "30-05-2020",
      "provenance": [],
      "authorship_tag": "ABX9TyN585MyzqnJsx++m14k+SsU",
      "include_colab_link": true
    },
    "kernelspec": {
      "name": "python3",
      "display_name": "Python 3"
    }
  },
  "cells": [
    {
      "cell_type": "markdown",
      "metadata": {
        "id": "view-in-github",
        "colab_type": "text"
      },
      "source": [
        "<a href=\"https://colab.research.google.com/github/Manikrishna14/AD/blob/master/30_05_2020.ipynb\" target=\"_parent\"><img src=\"https://colab.research.google.com/assets/colab-badge.svg\" alt=\"Open In Colab\"/></a>"
      ]
    },
    {
      "cell_type": "markdown",
      "metadata": {
        "id": "kU2zNgWpx2CY",
        "colab_type": "text"
      },
      "source": [
        "#adam number"
      ]
    },
    {
      "cell_type": "markdown",
      "metadata": {
        "id": "QG5ndYaXx8s9",
        "colab_type": "text"
      },
      "source": [
        "input:12\n",
        "output:Adam number\n",
        "eg:12*12=144\n",
        "   21*21=441\n",
        "\n"
      ]
    },
    {
      "cell_type": "code",
      "metadata": {
        "id": "mOLxbkZTylg3",
        "colab_type": "code",
        "outputId": "bb6d99f8-eff0-461d-a4cb-0dcb75188600",
        "colab": {
          "base_uri": "https://localhost:8080/",
          "height": 51
        }
      },
      "source": [
        "n=int(input(\"enter a number\"))\n",
        "if int(str(n**2)[::-1]) == int(str(n)[::-1])**2:\n",
        "    print(\"adam number\")\n",
        "else:\n",
        "    print(\"not a adam numer\")"
      ],
      "execution_count": 0,
      "outputs": [
        {
          "output_type": "stream",
          "text": [
            "enter a number12\n",
            "adam number\n"
          ],
          "name": "stdout"
        }
      ]
    },
    {
      "cell_type": "code",
      "metadata": {
        "id": "uUy5HorX0IOf",
        "colab_type": "code",
        "colab": {}
      },
      "source": [
        "usng functions\n",
        "def Adam(n):\n",
        "    if int(str(n**2)[::-1]) == int(str(n)[::-1])**2:\n",
        "        return True\n",
        "    else:\n",
        "        return False\n",
        "        n=int(input(\"enter a number\"))\n",
        "\n"
      ],
      "execution_count": 0,
      "outputs": []
    },
    {
      "cell_type": "code",
      "metadata": {
        "id": "BnUhzKPZ1Sg9",
        "colab_type": "code",
        "outputId": "e2e94cd7-6e2c-411b-c197-df43653d5e14",
        "colab": {
          "base_uri": "https://localhost:8080/",
          "height": 34
        }
      },
      "source": [
        "#recursive function:\n",
        "#factorial of numbe\n",
        "def Factorial(n):\n",
        "    if n==0 or n==1:\n",
        "        return 1\n",
        "    else:\n",
        "        return n*Factorial(n-1)\n",
        "Factorial(5)"
      ],
      "execution_count": 0,
      "outputs": [
        {
          "output_type": "execute_result",
          "data": {
            "text/plain": [
              "120"
            ]
          },
          "metadata": {
            "tags": []
          },
          "execution_count": 4
        }
      ]
    },
    {
      "cell_type": "code",
      "metadata": {
        "id": "mVk6NLomyc6o",
        "colab_type": "code",
        "outputId": "02fdcb4f-e223-40b0-b6da-7f73aca3075f",
        "colab": {
          "base_uri": "https://localhost:8080/",
          "height": 68
        }
      },
      "source": [
        "#lower bound and upper bound\n",
        "def display(lb,up):\n",
        "    if lb>ub:\n",
        "       return\n",
        "    else:\n",
        "        print(lb,end=\" \")\n",
        "        display(lb+1,ub)\n",
        "lb=int(input())\n",
        "ub=int(input())\n",
        "display(lb,ub)\n"
      ],
      "execution_count": 0,
      "outputs": [
        {
          "output_type": "stream",
          "text": [
            "1\n",
            "10\n",
            "1 2 3 4 5 6 7 8 9 10 "
          ],
          "name": "stdout"
        }
      ]
    },
    {
      "cell_type": "code",
      "metadata": {
        "id": "dJaYGtjY6Hsf",
        "colab_type": "code",
        "outputId": "2dafa4e0-aa93-41b3-a54f-6351310a3deb",
        "colab": {
          "base_uri": "https://localhost:8080/",
          "height": 51
        }
      },
      "source": [
        "#fibonacci number\n",
        "import time\n",
        "def rec_fib(n):\n",
        "    if n==1:\n",
        "        return 0\n",
        "    elif n==2:\n",
        "        return 1\n",
        "    else:\n",
        "        return rec_fib(n-1)+rec_fib(n-2)\n",
        "prev=time.time()\n",
        "print(rec_fib(10))\n",
        "print(time.time()-prev)"
      ],
      "execution_count": 0,
      "outputs": [
        {
          "output_type": "stream",
          "text": [
            "34\n",
            "0.0003426074981689453\n"
          ],
          "name": "stdout"
        }
      ]
    },
    {
      "cell_type": "code",
      "metadata": {
        "id": "IgVVwF4eApbo",
        "colab_type": "code",
        "colab": {}
      },
      "source": [
        "import timefiibs=[0,1]\n",
        "def fibonacci(n):\n",
        "    if n<=len(fibs):\n",
        "       return fibs[n-1]\n",
        "    else:\n",
        "       fibs.append"
      ],
      "execution_count": 0,
      "outputs": []
    },
    {
      "cell_type": "code",
      "metadata": {
        "id": "QdeLVUZxBG4P",
        "colab_type": "code",
        "colab": {}
      },
      "source": [
        "###list[],indexed,ordered,allows dupkicate,mutable\n",
        "operators:+,*,[],[:]in,not in\n",
        "Built in functions:len(),min(),max(),list()\n",
        "Built in methods:"
      ],
      "execution_count": 0,
      "outputs": []
    },
    {
      "cell_type": "code",
      "metadata": {
        "id": "bdRuHj41Bqjl",
        "colab_type": "code",
        "outputId": "9f30ac77-f8d7-4420-950b-ab7362e1468a",
        "colab": {
          "base_uri": "https://localhost:8080/",
          "height": 68
        }
      },
      "source": [
        "#Built in functions:len(),min(),max(),list()\n",
        "list1=[12,34,45,6,\"str\",True]\n",
        "list2=[34,45,6.6,45,[12,23,34,45,[23,34,45,6]]]\n",
        "string=\"python\"\n",
        "#print(len(list1))\n",
        "#print(min(list2))\n",
        "#print(max(list2))\n",
        "print(list(string))\n",
        "print(list1[4][1])\n",
        "print(list2[4][4][3])"
      ],
      "execution_count": 0,
      "outputs": [
        {
          "output_type": "stream",
          "text": [
            "['p', 'y', 't', 'h', 'o', 'n']\n",
            "t\n",
            "6\n"
          ],
          "name": "stdout"
        }
      ]
    },
    {
      "cell_type": "markdown",
      "metadata": {
        "id": "XnI8J8ylEU_o",
        "colab_type": "text"
      },
      "source": [
        "#built in methds:\n",
        "#addind a element:\n",
        "1. append()"
      ]
    },
    {
      "cell_type": "markdown",
      "metadata": {
        "id": "IME7dRbOE5rb",
        "colab_type": "text"
      },
      "source": [
        "2. insert()"
      ]
    },
    {
      "cell_type": "markdown",
      "metadata": {
        "id": "y0x6gHSYFc31",
        "colab_type": "text"
      },
      "source": [
        "3. extend[]"
      ]
    },
    {
      "cell_type": "code",
      "metadata": {
        "id": "U4NCj70cEa9D",
        "colab_type": "code",
        "outputId": "9179abf8-3f27-4e3b-80b2-b8bd2fe75cfb",
        "colab": {
          "base_uri": "https://localhost:8080/",
          "height": 51
        }
      },
      "source": [
        "list1=[1,2,3,4,5]\n",
        "list1.append(6)\n",
        "print(list1)\n",
        "list1.append(7)\n",
        "print(list1)"
      ],
      "execution_count": 0,
      "outputs": [
        {
          "output_type": "stream",
          "text": [
            "[1, 2, 3, 4, 5, 6]\n",
            "[1, 2, 3, 4, 5, 6, 7]\n"
          ],
          "name": "stdout"
        }
      ]
    },
    {
      "cell_type": "code",
      "metadata": {
        "id": "RsUWwH4rE-L2",
        "colab_type": "code",
        "outputId": "76a7fbfc-d710-45f0-ea7d-2acdb4387b3f",
        "colab": {
          "base_uri": "https://localhost:8080/",
          "height": 34
        }
      },
      "source": [
        "#insert\n",
        "list1.insert(2,100)\n",
        "print(list1)"
      ],
      "execution_count": 0,
      "outputs": [
        {
          "output_type": "stream",
          "text": [
            "[100, 1, 100, 2, 100, 100, 100, 3, 4, 5, 6, 7]\n"
          ],
          "name": "stdout"
        }
      ]
    },
    {
      "cell_type": "code",
      "metadata": {
        "id": "dNQ1epcVFgdG",
        "colab_type": "code",
        "outputId": "aecb7fc9-5208-4bce-9143-d4d9bed2e1be",
        "colab": {
          "base_uri": "https://localhost:8080/",
          "height": 34
        }
      },
      "source": [
        "list1.extend([8,9,10])\n",
        "print(list1)"
      ],
      "execution_count": 0,
      "outputs": [
        {
          "output_type": "stream",
          "text": [
            "[100, 1, 100, 2, 100, 100, 100, 3, 4, 5, 6, 7, 8, 9, 10]\n"
          ],
          "name": "stdout"
        }
      ]
    },
    {
      "cell_type": "code",
      "metadata": {
        "id": "WNRpNP5kF6Fr",
        "colab_type": "code",
        "outputId": "0c1aed91-6c84-484c-ff2c-123907586c4b",
        "colab": {
          "base_uri": "https://localhost:8080/",
          "height": 129
        }
      },
      "source": [
        "#removing elements\n",
        "#list1.pop()\n",
        "print(list1.pop(2)\n",
        "print(list1))"
      ],
      "execution_count": 0,
      "outputs": [
        {
          "output_type": "error",
          "ename": "SyntaxError",
          "evalue": "ignored",
          "traceback": [
            "\u001b[0;36m  File \u001b[0;32m\"<ipython-input-30-46c4e4ce9e7a>\"\u001b[0;36m, line \u001b[0;32m4\u001b[0m\n\u001b[0;31m    print(list1))\u001b[0m\n\u001b[0m        ^\u001b[0m\n\u001b[0;31mSyntaxError\u001b[0m\u001b[0;31m:\u001b[0m invalid syntax\n"
          ]
        }
      ]
    },
    {
      "cell_type": "code",
      "metadata": {
        "id": "vlscArSHG7p_",
        "colab_type": "code",
        "outputId": "7c55cad4-df92-4545-eff0-8119a3625d61",
        "colab": {
          "base_uri": "https://localhost:8080/",
          "height": 180
        }
      },
      "source": [
        "#remove\n",
        "list1.remove(9)"
      ],
      "execution_count": 0,
      "outputs": [
        {
          "output_type": "error",
          "ename": "ValueError",
          "evalue": "ignored",
          "traceback": [
            "\u001b[0;31m---------------------------------------------------------------------------\u001b[0m",
            "\u001b[0;31mValueError\u001b[0m                                Traceback (most recent call last)",
            "\u001b[0;32m<ipython-input-32-aac2cfa9eb44>\u001b[0m in \u001b[0;36m<module>\u001b[0;34m()\u001b[0m\n\u001b[1;32m      1\u001b[0m \u001b[0;31m#remove\u001b[0m\u001b[0;34m\u001b[0m\u001b[0;34m\u001b[0m\u001b[0;34m\u001b[0m\u001b[0m\n\u001b[0;32m----> 2\u001b[0;31m \u001b[0mlist1\u001b[0m\u001b[0;34m.\u001b[0m\u001b[0mremove\u001b[0m\u001b[0;34m(\u001b[0m\u001b[0;36m9\u001b[0m\u001b[0;34m)\u001b[0m\u001b[0;34m\u001b[0m\u001b[0;34m\u001b[0m\u001b[0m\n\u001b[0m",
            "\u001b[0;31mValueError\u001b[0m: list.remove(x): x not in list"
          ]
        }
      ]
    },
    {
      "cell_type": "code",
      "metadata": {
        "id": "xTw7EEe2HL2u",
        "colab_type": "code",
        "outputId": "2d677e7c-61d7-428e-bde3-be9f23238c6c",
        "colab": {
          "base_uri": "https://localhost:8080/",
          "height": 51
        }
      },
      "source": [
        "list1=[23,34,56,76,68,79,80,76]\n",
        "print(list1.index(34))\n",
        "print(list1.count(76))"
      ],
      "execution_count": 0,
      "outputs": [
        {
          "output_type": "stream",
          "text": [
            "1\n",
            "2\n"
          ],
          "name": "stdout"
        }
      ]
    },
    {
      "cell_type": "code",
      "metadata": {
        "id": "9sFrVBr_HjS7",
        "colab_type": "code",
        "outputId": "5604c880-3789-42cf-cc42-139c73063d43",
        "colab": {
          "base_uri": "https://localhost:8080/",
          "height": 34
        }
      },
      "source": [
        "list1.sort(reverse=True)\n",
        "print(list1)"
      ],
      "execution_count": 0,
      "outputs": [
        {
          "output_type": "stream",
          "text": [
            "[80, 79, 76, 76, 68, 56, 34, 23]\n"
          ],
          "name": "stdout"
        }
      ]
    }
  ]
}