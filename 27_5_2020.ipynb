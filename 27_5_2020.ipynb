{
  "nbformat": 4,
  "nbformat_minor": 0,
  "metadata": {
    "colab": {
      "name": "27-5-2020",
      "provenance": [],
      "authorship_tag": "ABX9TyNVYwqYIVREaphkFhtTmWd2",
      "include_colab_link": true
    },
    "kernelspec": {
      "name": "python3",
      "display_name": "Python 3"
    }
  },
  "cells": [
    {
      "cell_type": "markdown",
      "metadata": {
        "id": "view-in-github",
        "colab_type": "text"
      },
      "source": [
        "<a href=\"https://colab.research.google.com/github/Manikrishna14/AD/blob/master/27_5_2020.ipynb\" target=\"_parent\"><img src=\"https://colab.research.google.com/assets/colab-badge.svg\" alt=\"Open In Colab\"/></a>"
      ]
    },
    {
      "cell_type": "markdown",
      "metadata": {
        "id": "iYB14qjjUB3w",
        "colab_type": "text"
      },
      "source": [
        "Headings:\n"
      ]
    },
    {
      "cell_type": "markdown",
      "metadata": {
        "id": "WfiL5kAoUF_Z",
        "colab_type": "text"
      },
      "source": [
        "#python programming\n",
        "##python programming\n",
        "###python programming\n",
        "####python programming\n",
        "#####python programming\n",
        "######python programming\n"
      ]
    },
    {
      "cell_type": "markdown",
      "metadata": {
        "id": "pugT5EBpVUw0",
        "colab_type": "text"
      },
      "source": [
        "### List of programming languages:\n",
        "1.python\n",
        "2.java\n",
        "3.c\n",
        "4.c++\n",
        "5. .NET"
      ]
    },
    {
      "cell_type": "markdown",
      "metadata": {
        "id": "Zybx3-OaWa0r",
        "colab_type": "text"
      },
      "source": [
        "### List of programming languages:\n",
        "- python\n",
        "- java\n",
        "- c\n",
        "- c++\n",
        "- .NET"
      ]
    },
    {
      "cell_type": "markdown",
      "metadata": {
        "id": "7OOszG3SWsU5",
        "colab_type": "text"
      },
      "source": [
        "List of programming languages:\n",
        "- python\n",
        "    - core python\n",
        "    - adv python\n",
        "- java\n",
        "- c\n",
        "- c++\n",
        "- .NET"
      ]
    },
    {
      "cell_type": "markdown",
      "metadata": {
        "id": "tmAv4dsoXBOA",
        "colab_type": "text"
      },
      "source": [
        "- **python programming**\n",
        "- *python programming*"
      ]
    },
    {
      "cell_type": "markdown",
      "metadata": {
        "id": "v1DHWEidX_8a",
        "colab_type": "text"
      },
      "source": [
        "[click here for Documentaton](https://tinyurl.com/introduction-to-python)"
      ]
    },
    {
      "cell_type": "markdown",
      "metadata": {
        "id": "sqfGNU4XZ0E_",
        "colab_type": "text"
      },
      "source": [
        "![image](https://i.ytimg.com/vi/S0mhvQxvy58/hqdefault.jpg)"
      ]
    },
    {
      "cell_type": "markdown",
      "metadata": {
        "id": "2e7G4m-8bLSW",
        "colab_type": "text"
      },
      "source": [
        "<img src=\"https://i.ytimg.com/vi/S0mhvQxvy58/hqdefault.jpg\" width=200 height=200>"
      ]
    },
    {
      "cell_type": "markdown",
      "metadata": {
        "id": "FBpsjB_yc7JD",
        "colab_type": "text"
      },
      "source": [
        "1. Different paradigms\n",
        "2. Interpreted PL\n",
        "3. open source\n",
        "4. object oriented PL\n",
        "5. Dynmic language\n",
        "6. GUIDO VAN ROSSUM"
      ]
    },
    {
      "cell_type": "markdown",
      "metadata": {
        "id": "UTsVE3MEeyhD",
        "colab_type": "text"
      },
      "source": [
        "## Numeric Data Types\n",
        "1. int\n",
        "2. float\n",
        "3. complex"
      ]
    },
    {
      "cell_type": "code",
      "metadata": {
        "id": "zMYd8UkbfJV4",
        "colab_type": "code",
        "outputId": "3ebb76d4-9f35-4d64-e6a5-c62a63c3e080",
        "colab": {
          "base_uri": "https://localhost:8080/",
          "height": 34
        }
      },
      "source": [
        "a = 10 #interger\n",
        "b = 23.34 #float\n",
        "c = 12+3j #complex\n",
        "\n",
        "print(type(a),type(b),type(c))"
      ],
      "execution_count": 0,
      "outputs": [
        {
          "output_type": "stream",
          "text": [
            "<class 'int'> <class 'float'> <class 'complex'>\n"
          ],
          "name": "stdout"
        }
      ]
    },
    {
      "cell_type": "code",
      "metadata": {
        "id": "PIMerB_-ghvW",
        "colab_type": "code",
        "outputId": "fadfa76c-4885-468f-9b53-0573fe271628",
        "colab": {
          "base_uri": "https://localhost:8080/",
          "height": 85
        }
      },
      "source": [
        "c1 = 4+5j\n",
        "c2 = complex(6,8)\n",
        "print(c2)\n",
        "print(c1+c2)\n",
        "print(c2.real)\n",
        "print(c2.imag)"
      ],
      "execution_count": 0,
      "outputs": [
        {
          "output_type": "stream",
          "text": [
            "(6+8j)\n",
            "(10+13j)\n",
            "6.0\n",
            "8.0\n"
          ],
          "name": "stdout"
        }
      ]
    },
    {
      "cell_type": "code",
      "metadata": {
        "id": "n4ppP4MahfMc",
        "colab_type": "code",
        "outputId": "e853d7dd-b48b-45df-dfa4-c9cee17c6b85",
        "colab": {
          "base_uri": "https://localhost:8080/",
          "height": 68
        }
      },
      "source": [
        "#input and output functions\n",
        "#input -->input()\n",
        "#output -->print()\n",
        "a = int(input(\"Enter the value of a\"))\n",
        "b = int(input(\"Enter the value of b\"))\n",
        "print(a+b,end=\" \")\n",
        "print(a-b,a*b,a%b,sep=\",\")\n"
      ],
      "execution_count": 0,
      "outputs": [
        {
          "output_type": "stream",
          "text": [
            "Enter the value of a10\n",
            "Enter the value of b14\n",
            "24 -4,140,10\n"
          ],
          "name": "stdout"
        }
      ]
    },
    {
      "cell_type": "markdown",
      "metadata": {
        "id": "FgbFOB2Bkk1l",
        "colab_type": "text"
      },
      "source": [
        "#operators"
      ]
    },
    {
      "cell_type": "code",
      "metadata": {
        "id": "W-8VIM1EkoHg",
        "colab_type": "code",
        "outputId": "1985424a-f257-44ce-d88a-4cafdb497c72",
        "colab": {
          "base_uri": "https://localhost:8080/",
          "height": 170
        }
      },
      "source": [
        "#Arithemetic operator:+,-,*,/,%,//(floor division),**(exponents)\n",
        "a = int(input(\"enter a value\"))\n",
        "b = int(input(\"enter b value\"))\n",
        "print(a+b)\n",
        "print(a-b)\n",
        "print(a*b)\n",
        "print(a/b)#float quotient\n",
        "print(a%b)#remainder\n",
        "print(a//b)#int quotient\n",
        "print(a**b)#2 5"
      ],
      "execution_count": 0,
      "outputs": [
        {
          "output_type": "stream",
          "text": [
            "enter a value2\n",
            "enter b value5\n",
            "7\n",
            "-3\n",
            "10\n",
            "0.4\n",
            "2\n",
            "0\n",
            "32\n"
          ],
          "name": "stdout"
        }
      ]
    },
    {
      "cell_type": "markdown",
      "metadata": {
        "id": "fokLisE4msdm",
        "colab_type": "text"
      },
      "source": [
        "#Relational operators; <,>,<=,>=,==,!="
      ]
    },
    {
      "cell_type": "code",
      "metadata": {
        "id": "gd9uNPZ_nFK2",
        "colab_type": "code",
        "outputId": "d9046709-160e-486d-b967-1e6ae35786a4",
        "colab": {
          "base_uri": "https://localhost:8080/",
          "height": 119
        }
      },
      "source": [
        "print(a<b)\n",
        "print(a>b)\n",
        "print(a<=b)\n",
        "print(a>=b)\n",
        "print(a==b)\n",
        "print(a!=b)"
      ],
      "execution_count": 0,
      "outputs": [
        {
          "output_type": "stream",
          "text": [
            "True\n",
            "False\n",
            "True\n",
            "False\n",
            "False\n",
            "True\n"
          ],
          "name": "stdout"
        }
      ]
    },
    {
      "cell_type": "markdown",
      "metadata": {
        "id": "rAZM1u1qoGYQ",
        "colab_type": "text"
      },
      "source": [
        "#lOGICAL OPERATORS:and,or,not"
      ]
    },
    {
      "cell_type": "code",
      "metadata": {
        "id": "DqOOPK_6oYum",
        "colab_type": "code",
        "outputId": "802683bb-7d66-440f-bd0b-6f23fb9381f5",
        "colab": {
          "base_uri": "https://localhost:8080/",
          "height": 255
        }
      },
      "source": [
        "print(help(\"keywords\"))"
      ],
      "execution_count": 0,
      "outputs": [
        {
          "output_type": "stream",
          "text": [
            "\n",
            "Here is a list of the Python keywords.  Enter any keyword to get more help.\n",
            "\n",
            "False               def                 if                  raise\n",
            "None                del                 import              return\n",
            "True                elif                in                  try\n",
            "and                 else                is                  while\n",
            "as                  except              lambda              with\n",
            "assert              finally             nonlocal            yield\n",
            "break               for                 not                 \n",
            "class               from                or                  \n",
            "continue            global              pass                \n",
            "\n",
            "None\n"
          ],
          "name": "stdout"
        }
      ]
    },
    {
      "cell_type": "code",
      "metadata": {
        "id": "pztYTbufoowm",
        "colab_type": "code",
        "outputId": "1db70173-7168-43a9-e508-169ef2234d8a",
        "colab": {
          "base_uri": "https://localhost:8080/",
          "height": 68
        }
      },
      "source": [
        "print(a < b and a>1)\n",
        "print(a < b or a>1)\n",
        "print(not a<b)"
      ],
      "execution_count": 0,
      "outputs": [
        {
          "output_type": "stream",
          "text": [
            "True\n",
            "True\n",
            "False\n"
          ],
          "name": "stdout"
        }
      ]
    },
    {
      "cell_type": "code",
      "metadata": {
        "id": "YcoFT7SGpY7L",
        "colab_type": "code",
        "outputId": "456ebe53-85cc-4999-b949-215bdecfa606",
        "colab": {
          "base_uri": "https://localhost:8080/",
          "height": 51
        }
      },
      "source": [
        "#Membership operators: in,not in\n",
        "list1 = [12,23,34,45,56,67]\n",
        "print(12 in list1)#true\n",
        "print(120 in list1)#false\n"
      ],
      "execution_count": 0,
      "outputs": [
        {
          "output_type": "stream",
          "text": [
            "True\n",
            "False\n"
          ],
          "name": "stdout"
        }
      ]
    },
    {
      "cell_type": "code",
      "metadata": {
        "id": "lBKj-O8Tq3Ix",
        "colab_type": "code",
        "outputId": "9062d0b6-86d6-4e6e-c166-e0e5c5827f12",
        "colab": {
          "base_uri": "https://localhost:8080/",
          "height": 34
        }
      },
      "source": [
        "# conditional statements:if,else,elif\n",
        "if a < b:\n",
        "    print(\"a is less than b\")\n",
        "elif a > b:\n",
        "    print(\"a is greater or equals to b\")\n",
        "else:\n",
        "    print(\"a or equals to b\")"
      ],
      "execution_count": 0,
      "outputs": [
        {
          "output_type": "stream",
          "text": [
            "a is less than b\n"
          ],
          "name": "stdout"
        }
      ]
    },
    {
      "cell_type": "code",
      "metadata": {
        "id": "yBsS3qr1ttNf",
        "colab_type": "code",
        "outputId": "3571222f-fb48-4d92-d820-e846b068bf81",
        "colab": {
          "base_uri": "https://localhost:8080/",
          "height": 85
        }
      },
      "source": [
        "a = int(input(\"enter a value\"))\n",
        "b = int(input(\"enter b value\"))\n",
        "c = int(input(\"enter c value\"))\n",
        "if a > b and a > c:\n",
        "    print(\"largest no is a:\",a)\n",
        "elif b > c:\n",
        "    print(\"largest no is b:\",b)\n",
        "else:\n",
        "    print(\"largest no is c:\",c)"
      ],
      "execution_count": 0,
      "outputs": [
        {
          "output_type": "stream",
          "text": [
            "enter a value2\n",
            "enter b value6\n",
            "enter c value11\n",
            "largest no is c: 11\n"
          ],
          "name": "stdout"
        }
      ]
    },
    {
      "cell_type": "code",
      "metadata": {
        "id": "bRN2GQ-Nv3CS",
        "colab_type": "code",
        "outputId": "d5c84a1e-d2b2-4a2a-c365-8dc41698d10f",
        "colab": {
          "base_uri": "https://localhost:8080/",
          "height": 51
        }
      },
      "source": [
        "#loops:while,for\n",
        "# print 1 to n values\n",
        "n = int(input(\"enter n values\"))\n",
        "i=1\n",
        "while i<=n:\n",
        "    print(i,end=\" \")\n",
        "    i+=1"
      ],
      "execution_count": 0,
      "outputs": [
        {
          "output_type": "stream",
          "text": [
            "enter n values14\n",
            "1 2 3 4 5 6 7 8 9 10 11 12 13 14 "
          ],
          "name": "stdout"
        }
      ]
    }
  ]
}