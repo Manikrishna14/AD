{
  "nbformat": 4,
  "nbformat_minor": 0,
  "metadata": {
    "colab": {
      "name": "assignment-3",
      "provenance": [],
      "authorship_tag": "ABX9TyNbYNIZkP9NJ2pR9XVspJQk",
      "include_colab_link": true
    },
    "kernelspec": {
      "name": "python3",
      "display_name": "Python 3"
    }
  },
  "cells": [
    {
      "cell_type": "markdown",
      "metadata": {
        "id": "view-in-github",
        "colab_type": "text"
      },
      "source": [
        "<a href=\"https://colab.research.google.com/github/Manikrishna14/AD/blob/master/assignment_3.ipynb\" target=\"_parent\"><img src=\"https://colab.research.google.com/assets/colab-badge.svg\" alt=\"Open In Colab\"/></a>"
      ]
    },
    {
      "cell_type": "code",
      "metadata": {
        "id": "MtFFL47_3iT9",
        "colab_type": "code",
        "colab": {
          "base_uri": "https://localhost:8080/",
          "height": 51
        },
        "outputId": "38faf9c7-f203-47d6-efba-51acbb572e46"
      },
      "source": [
        "#Create a function to find Factorial of a number using Recursion\n",
        "def fact(n):\n",
        "    if n==1:\n",
        "        return n\n",
        "    else:\n",
        "        return n*fact(n-1)\n",
        "n=int(input('enter n'))         \n",
        "print(fact(5))"
      ],
      "execution_count": 2,
      "outputs": [
        {
          "output_type": "stream",
          "text": [
            "enter n5\n",
            "120\n"
          ],
          "name": "stdout"
        }
      ]
    },
    {
      "cell_type": "code",
      "metadata": {
        "id": "qV6Iuby65GWM",
        "colab_type": "code",
        "colab": {
          "base_uri": "https://localhost:8080/",
          "height": 136
        },
        "outputId": "729f734e-5926-4f83-c8fb-6b869254e88e"
      },
      "source": [
        "#Create a function and display ‘n’ Fibonacci numbers using Recursion\n",
        "def fib(n):\n",
        "    if n<=1:\n",
        "        return n\n",
        "    else:\n",
        "        return(fib(n-1)+fib(n-2))\n",
        "    \n",
        "n=int(input('enter n'))\n",
        "for i in range(n):   \n",
        "         print(fib(i))"
      ],
      "execution_count": 4,
      "outputs": [
        {
          "output_type": "stream",
          "text": [
            "enter n6\n",
            "0\n",
            "1\n",
            "1\n",
            "2\n",
            "3\n",
            "5\n"
          ],
          "name": "stdout"
        }
      ]
    },
    {
      "cell_type": "code",
      "metadata": {
        "id": "C5M-Ribd5XeJ",
        "colab_type": "code",
        "colab": {
          "base_uri": "https://localhost:8080/",
          "height": 34
        },
        "outputId": "83c62922-c726-4eb5-904c-90bab943ad73"
      },
      "source": [
        "#Print sum of list of elements without using sum() function\n",
        "\n",
        "list1=[10,20,30,40]\n",
        "sum=0;\n",
        "for i in range(0,len(list1)):\n",
        "    sum=sum+list1[i]\n",
        "    \n",
        "print(sum)"
      ],
      "execution_count": 5,
      "outputs": [
        {
          "output_type": "stream",
          "text": [
            "100\n"
          ],
          "name": "stdout"
        }
      ]
    },
    {
      "cell_type": "code",
      "metadata": {
        "id": "Lm1bCWW86Ls0",
        "colab_type": "code",
        "colab": {
          "base_uri": "https://localhost:8080/",
          "height": 102
        },
        "outputId": "4029918e-9f20-41d0-bb7f-f364505127b3"
      },
      "source": [
        "#Rename and remove files\n",
        "l1=[10,21,30,33,35,89,90,2,36,47]\n",
        "for i in range(0,len(l1)):\n",
        "    if l1[i]%2==0:\n",
        "        l2=print(l1[i])"
      ],
      "execution_count": 6,
      "outputs": [
        {
          "output_type": "stream",
          "text": [
            "10\n",
            "30\n",
            "90\n",
            "2\n",
            "36\n"
          ],
          "name": "stdout"
        }
      ]
    },
    {
      "cell_type": "code",
      "metadata": {
        "id": "hxl7m9ZA6t9G",
        "colab_type": "code",
        "colab": {
          "base_uri": "https://localhost:8080/",
          "height": 51
        },
        "outputId": "7bdbc626-bdbe-4469-b29c-6cd46d4fd8b0"
      },
      "source": [
        "#print only even numbers from the list\n",
        "l1=[10,20,4,5,66,89,10001,1,79]\n",
        "s=l1[0]\n",
        "for i in range(0,len(l1)):\n",
        "    if l1[i]<s:\n",
        "        a=l1[i]\n",
        "        ind=i\n",
        "        \n",
        "        \n",
        "print(a)\n",
        "print(ind+1)"
      ],
      "execution_count": 8,
      "outputs": [
        {
          "output_type": "stream",
          "text": [
            "1\n",
            "8\n"
          ],
          "name": "stdout"
        }
      ]
    },
    {
      "cell_type": "code",
      "metadata": {
        "id": "UzB2BYriDDLp",
        "colab_type": "code",
        "colab": {}
      },
      "source": [
        "#Write a Python function that checks whether a passed string is palindrome or not.\n",
        "def pallin(s):\n",
        "    s1=s[::-1]\n",
        "    if s1==s:\n",
        "        print(\"Pallindrome\")\n",
        "    else:\n",
        "        print(\"Not a Pallindrome\")\n",
        "n=input()\n",
        "pallin(n)"
      ],
      "execution_count": 0,
      "outputs": []
    },
    {
      "cell_type": "code",
      "metadata": {
        "id": "Egbnx0Cq67mO",
        "colab_type": "code",
        "colab": {
          "base_uri": "https://localhost:8080/",
          "height": 51
        },
        "outputId": "772e6e85-d8ad-481a-88d8-72ef21da4d46"
      },
      "source": [
        "#Write a Python program to count the number of even and odd numbers from a series of numbers. \n",
        "#Sample numbers : numbers = [1, 2, 3, 4, 5, 6, 7, 8, 9]\n",
        "l1= [1, 2, 3, 4, 5, 6, 7, 8, 9]\n",
        "ec=0\n",
        "oc=0\n",
        "for i in range (0,len(l1)):\n",
        "    if i%2==0:\n",
        "        ec=ec+1;\n",
        "    else:\n",
        "        oc=oc+1\n",
        "        \n",
        "print(\"Number of even numbers=\",end=\" \")\n",
        "print(ec)\n",
        "print(\"Number of odd numbers=\",end=\" \")\n",
        "print(oc)"
      ],
      "execution_count": 10,
      "outputs": [
        {
          "output_type": "stream",
          "text": [
            "Number of even numbers= 5\n",
            "Number of odd numbers= 4\n"
          ],
          "name": "stdout"
        }
      ]
    },
    {
      "cell_type": "code",
      "metadata": {
        "id": "zXa9_uV-7L50",
        "colab_type": "code",
        "colab": {
          "base_uri": "https://localhost:8080/",
          "height": 102
        },
        "outputId": "0c78dfd8-faed-4994-d433-7d616d30ef0a"
      },
      "source": [
        "#Write a Python program that prints all the numbers from 0 to 6 except 3 and 6.\n",
        "#Note : Use 'continue' statement.\n",
        "for i in range (0,7):\n",
        "    if i==3 or i==6:\n",
        "        continue\n",
        "    else:\n",
        "        print(i)\n"
      ],
      "execution_count": 11,
      "outputs": [
        {
          "output_type": "stream",
          "text": [
            "0\n",
            "1\n",
            "2\n",
            "4\n",
            "5\n"
          ],
          "name": "stdout"
        }
      ]
    },
    {
      "cell_type": "code",
      "metadata": {
        "id": "wDsygeNd7cXm",
        "colab_type": "code",
        "colab": {
          "base_uri": "https://localhost:8080/",
          "height": 51
        },
        "outputId": "99a174a8-4095-4578-d499-dc7a060dd348"
      },
      "source": [
        "#Write a python function to check whether the given number is prime or not\n",
        "n=int(input(\"enter a number\"))\n",
        "c=0\n",
        "for i in range (2,n+1):\n",
        "    if n%i==0:\n",
        "        c=c+1\n",
        "        \n",
        "if c==1:\n",
        "    print(\"it is a prime number\")\n",
        "else:\n",
        "    print(\"not a prime number\")"
      ],
      "execution_count": 12,
      "outputs": [
        {
          "output_type": "stream",
          "text": [
            "enter a number13\n",
            "it is a prime number\n"
          ],
          "name": "stdout"
        }
      ]
    },
    {
      "cell_type": "code",
      "metadata": {
        "id": "hTceqq0P7phv",
        "colab_type": "code",
        "colab": {
          "base_uri": "https://localhost:8080/",
          "height": 51
        },
        "outputId": "4adfedaf-127d-42cc-92f3-eac2a20585a3"
      },
      "source": [
        "#Write a python function to check whether the given number is Adam number or not\n",
        "def rev(n):\n",
        "    rev=0\n",
        "    while n>0:\n",
        "        rem=n%10\n",
        "        rev=rev*10+rem\n",
        "        n=n//10\n",
        "    return rev\n",
        "        \n",
        "n=int(input(\"enter a number\"))\n",
        "s1=n*n\n",
        "rev1=rev(n)\n",
        "s2=rev1*rev1\n",
        "if s1==rev(s2):\n",
        "    print(\"Adam Number\")\n",
        "else:\n",
        "    print(\"Not a Adam Number\")"
      ],
      "execution_count": 13,
      "outputs": [
        {
          "output_type": "stream",
          "text": [
            "enter a number121\n",
            "Adam Number\n"
          ],
          "name": "stdout"
        }
      ]
    }
  ]
}