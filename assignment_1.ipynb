{
  "nbformat": 4,
  "nbformat_minor": 0,
  "metadata": {
    "colab": {
      "name": "assignment-1",
      "provenance": [],
      "authorship_tag": "ABX9TyO0rgXU67AoJF3mDEY4Bvsg",
      "include_colab_link": true
    },
    "kernelspec": {
      "name": "python3",
      "display_name": "Python 3"
    }
  },
  "cells": [
    {
      "cell_type": "markdown",
      "metadata": {
        "id": "view-in-github",
        "colab_type": "text"
      },
      "source": [
        "<a href=\"https://colab.research.google.com/github/Manikrishna14/AD/blob/master/assignment_1.ipynb\" target=\"_parent\"><img src=\"https://colab.research.google.com/assets/colab-badge.svg\" alt=\"Open In Colab\"/></a>"
      ]
    },
    {
      "cell_type": "markdown",
      "metadata": {
        "id": "4Yas8M1XV7KW",
        "colab_type": "text"
      },
      "source": [
        "1. Pattern program"
      ]
    },
    {
      "cell_type": "code",
      "metadata": {
        "id": "AB5Tmf3aWOUH",
        "colab_type": "code",
        "colab": {
          "base_uri": "https://localhost:8080/",
          "height": 204
        },
        "outputId": "817b0475-76e6-4ca8-f25e-2c13cece7ffe"
      },
      "source": [
        "rows = int(input(\"enter number of rows\"))\n",
        "for i in range(0,rows):\n",
        "    for j in range(0,i+1):\n",
        "        print(\"*\",end=' ')\n",
        "\n",
        "    print(\"\\n\")"
      ],
      "execution_count": 2,
      "outputs": [
        {
          "output_type": "stream",
          "text": [
            "enter number of rows5\n",
            "* \n",
            "\n",
            "* * \n",
            "\n",
            "* * * \n",
            "\n",
            "* * * * \n",
            "\n",
            "* * * * * \n",
            "\n"
          ],
          "name": "stdout"
        }
      ]
    },
    {
      "cell_type": "markdown",
      "metadata": {
        "id": "YdElevCnW9xg",
        "colab_type": "text"
      },
      "source": [
        "2. Multiplicationn table of k"
      ]
    },
    {
      "cell_type": "code",
      "metadata": {
        "id": "dvHLIuauXGnp",
        "colab_type": "code",
        "colab": {
          "base_uri": "https://localhost:8080/",
          "height": 204
        },
        "outputId": "f16f9869-937b-463d-8d3b-038f15bfae10"
      },
      "source": [
        "num = int(input(\"enter the number \"))\n",
        "for i in range(1,11):\n",
        "    print(num,'x',i,'=',num*i)"
      ],
      "execution_count": 3,
      "outputs": [
        {
          "output_type": "stream",
          "text": [
            "enter the number 7\n",
            "7 x 1 = 7\n",
            "7 x 2 = 14\n",
            "7 x 3 = 21\n",
            "7 x 4 = 28\n",
            "7 x 5 = 35\n",
            "7 x 6 = 42\n",
            "7 x 7 = 49\n",
            "7 x 8 = 56\n",
            "7 x 9 = 63\n",
            "7 x 10 = 70\n"
          ],
          "name": "stdout"
        }
      ]
    },
    {
      "cell_type": "markdown",
      "metadata": {
        "id": "gmJ_K_jZXkNG",
        "colab_type": "text"
      },
      "source": [
        "3.Roots of quadratic equation"
      ]
    },
    {
      "cell_type": "code",
      "metadata": {
        "id": "OyEJcj7oXx5y",
        "colab_type": "code",
        "colab": {
          "base_uri": "https://localhost:8080/",
          "height": 102
        },
        "outputId": "03fe8f2f-621d-4738-fe60-a868dc701268"
      },
      "source": [
        "from math import sqrt\n",
        "\n",
        "print(\"Quadratic function : (a * x^2) + b*x + c\")\n",
        "a = float(input(\"a: \"))\n",
        "b = float(input(\"b: \"))\n",
        "c = float(input(\"c: \"))\n",
        "\n",
        "r = b**2 - 4*a*c\n",
        "\n",
        "if r > 0:\n",
        "    num_roots = 2\n",
        "    x1 = (((-b) + sqrt(r))/(2*a))     \n",
        "    x2 = (((-b) - sqrt(r))/(2*a))\n",
        "    print(\"There are 2 roots: %f and %f\" % (x1, x2))\n",
        "elif r == 0:\n",
        "    num_roots = 1\n",
        "    x = (-b) / 2*a\n",
        "    print(\"There is one root: \", x)\n",
        "else:\n",
        "    num_roots = 0\n",
        "    print(\"No roots, discriminant < 0.\")\n",
        "    exit()"
      ],
      "execution_count": 4,
      "outputs": [
        {
          "output_type": "stream",
          "text": [
            "Quadratic function : (a * x^2) + b*x + c\n",
            "a: 5\n",
            "b: 6\n",
            "c: 7\n",
            "No roots, discriminant < 0.\n"
          ],
          "name": "stdout"
        }
      ]
    },
    {
      "cell_type": "markdown",
      "metadata": {
        "id": "WBqPzLGRZAuD",
        "colab_type": "text"
      },
      "source": [
        "4. Decimal to binary"
      ]
    },
    {
      "cell_type": "code",
      "metadata": {
        "id": "geOUdkL-ZEIY",
        "colab_type": "code",
        "colab": {
          "base_uri": "https://localhost:8080/",
          "height": 51
        },
        "outputId": "579357be-05b6-43df-b3f4-6d038f9a6828"
      },
      "source": [
        "def decimalToBinary(num):\n",
        "    if num > 1:\n",
        "        decimalToBinary(num//2)\n",
        "    print(num%2,end='')\n",
        "number = int(input(\"enter any decmal number: \"))\n",
        "decimalToBinary(number)"
      ],
      "execution_count": 1,
      "outputs": [
        {
          "output_type": "stream",
          "text": [
            "enter any decmal number: 3\n",
            "11"
          ],
          "name": "stdout"
        }
      ]
    },
    {
      "cell_type": "markdown",
      "metadata": {
        "id": "sF4z2SLZZXS-",
        "colab_type": "text"
      },
      "source": [
        "5.Generate 1st N numbrs of fibonacci numbers"
      ]
    },
    {
      "cell_type": "code",
      "metadata": {
        "id": "9GxBAP7gZim-",
        "colab_type": "code",
        "colab": {
          "base_uri": "https://localhost:8080/",
          "height": 34
        },
        "outputId": "23c8aea8-7c2a-46dc-edb3-c35e2a8cd6c2"
      },
      "source": [
        "def printFibonacciNumbers(n): \n",
        "      \n",
        "    f1 = 0\n",
        "    f2 = 1\n",
        "    if (n < 1): \n",
        "        return\n",
        "    for x in range(0, n): \n",
        "        print(f2, end = \" \") \n",
        "        next = f1 + f2 \n",
        "        f1 = f2 \n",
        "        f2 = next\n",
        "printFibonacciNumbers(7) "
      ],
      "execution_count": 12,
      "outputs": [
        {
          "output_type": "stream",
          "text": [
            "1 1 2 3 5 8 13 "
          ],
          "name": "stdout"
        }
      ]
    },
    {
      "cell_type": "markdown",
      "metadata": {
        "id": "XSQnQL3_YUjL",
        "colab_type": "text"
      },
      "source": [
        ""
      ]
    }
  ]
}