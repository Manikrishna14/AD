{
  "nbformat": 4,
  "nbformat_minor": 0,
  "metadata": {
    "colab": {
      "name": "29-05-2020",
      "provenance": [],
      "authorship_tag": "ABX9TyMr+4QCHuIeMT0Yvk2NkNlH",
      "include_colab_link": true
    },
    "kernelspec": {
      "name": "python3",
      "display_name": "Python 3"
    }
  },
  "cells": [
    {
      "cell_type": "markdown",
      "metadata": {
        "id": "view-in-github",
        "colab_type": "text"
      },
      "source": [
        "<a href=\"https://colab.research.google.com/github/Manikrishna14/AD/blob/master/29_05_2020.ipynb\" target=\"_parent\"><img src=\"https://colab.research.google.com/assets/colab-badge.svg\" alt=\"Open In Colab\"/></a>"
      ]
    },
    {
      "cell_type": "code",
      "metadata": {
        "id": "4mTe78GgcQ9G",
        "colab_type": "code",
        "colab": {}
      },
      "source": [
        "#loop control statements :break,continue"
      ],
      "execution_count": 0,
      "outputs": []
    },
    {
      "cell_type": "code",
      "metadata": {
        "id": "w5SqHeLHlpDO",
        "colab_type": "code",
        "outputId": "e5dd94e0-3695-4a5f-e458-cb6a13fefb6b",
        "colab": {
          "base_uri": "https://localhost:8080/",
          "height": 85
        }
      },
      "source": [
        "for i in range(1,11):\n",
        "    if i % 5 == 0:\n",
        "        break\n",
        "    else:\n",
        "        print(i)"
      ],
      "execution_count": 0,
      "outputs": [
        {
          "output_type": "stream",
          "text": [
            "1\n",
            "2\n",
            "3\n",
            "4\n"
          ],
          "name": "stdout"
        }
      ]
    },
    {
      "cell_type": "code",
      "metadata": {
        "id": "7DCaQPutmvWA",
        "colab_type": "code",
        "outputId": "16c211aa-1700-4263-c3e3-069bcab7975a",
        "colab": {
          "base_uri": "https://localhost:8080/",
          "height": 153
        }
      },
      "source": [
        "for i in range(1,11):\n",
        "    if i % 5 == 0:\n",
        "        continue\n",
        "    else:\n",
        "        print(i)"
      ],
      "execution_count": 0,
      "outputs": [
        {
          "output_type": "stream",
          "text": [
            "1\n",
            "2\n",
            "3\n",
            "4\n",
            "6\n",
            "7\n",
            "8\n",
            "9\n"
          ],
          "name": "stdout"
        }
      ]
    },
    {
      "cell_type": "markdown",
      "metadata": {
        "id": "-OGn9SvvpggL",
        "colab_type": "text"
      },
      "source": [
        "while True:\n",
        "    user  = input(\"enter a name: \")\n",
        "    if user == \"python\":\n",
        "        password == input(\"enter your password\")\n",
        "        if pwd == \"abc13\":\n",
        "            print(\"login successfully\")\n",
        "            break\n",
        "    else:\n",
        "        continue"
      ]
    },
    {
      "cell_type": "code",
      "metadata": {
        "id": "OHqZLXPVrXWg",
        "colab_type": "code",
        "colab": {}
      },
      "source": [
        "if 12 < 34:\n",
        "    pass\n",
        "else:\n",
        "    print(\"else\")"
      ],
      "execution_count": 0,
      "outputs": []
    },
    {
      "cell_type": "code",
      "metadata": {
        "id": "4ACcaV2Ps5sS",
        "colab_type": "code",
        "colab": {}
      },
      "source": [
        "#functions\n",
        "syntax:\n",
        "def parameter_name(argumets)\n",
        "statements\n",
        "return"
      ],
      "execution_count": 0,
      "outputs": []
    },
    {
      "cell_type": "code",
      "metadata": {
        "id": "I7yHvg5_ysT6",
        "colab_type": "code",
        "colab": {}
      },
      "source": [
        "#different types of arguments\n",
        "def add(a,b):\n",
        "    return(a+b)\n",
        "\n",
        "add(10,20,30)"
      ],
      "execution_count": 0,
      "outputs": []
    },
    {
      "cell_type": "code",
      "metadata": {
        "id": "yLkAljGr0PIx",
        "colab_type": "code",
        "outputId": "225d1915-4f9f-4e3a-cd50-1824cf2e6d7b",
        "colab": {
          "base_uri": "https://localhost:8080/",
          "height": 68
        }
      },
      "source": [
        "#keyword arguments \n",
        "def add (a,b):\n",
        "    print(\"a value:\",a)\n",
        "    print(\"b value:\",b)\n",
        "    return(a+b)\n",
        "add(b=10,a=20)"
      ],
      "execution_count": 0,
      "outputs": [
        {
          "output_type": "stream",
          "text": [
            "a value: 20\n",
            "b value: 10\n"
          ],
          "name": "stdout"
        },
        {
          "output_type": "execute_result",
          "data": {
            "text/plain": [
              "30"
            ]
          },
          "metadata": {
            "tags": []
          },
          "execution_count": 10
        }
      ]
    },
    {
      "cell_type": "code",
      "metadata": {
        "id": "LvcltKxa2NrA",
        "colab_type": "code",
        "colab": {}
      },
      "source": [
        "#nested functions:square of a number and cube of a number"
      ],
      "execution_count": 0,
      "outputs": []
    },
    {
      "cell_type": "code",
      "metadata": {
        "id": "nEwZdQSK6_vj",
        "colab_type": "code",
        "outputId": "ca6a5772-98ed-4ce9-af19-c1bef7c3811e",
        "colab": {
          "base_uri": "https://localhost:8080/",
          "height": 51
        }
      },
      "source": [
        "def square(a):\n",
        "    return a*a\n",
        "def cube(x):\n",
        "    return square(x)*x\n",
        "print(square(10))\n",
        "print(cube(10))"
      ],
      "execution_count": 0,
      "outputs": [
        {
          "output_type": "stream",
          "text": [
            "100\n",
            "1000\n"
          ],
          "name": "stdout"
        }
      ]
    },
    {
      "cell_type": "markdown",
      "metadata": {
        "id": "uQmsN_DN9mo4",
        "colab_type": "text"
      },
      "source": [
        "# Data structures\n",
        "1. list"
      ]
    },
    {
      "cell_type": "code",
      "metadata": {
        "id": "vGjOfg7o-mTq",
        "colab_type": "code",
        "outputId": "0361a70f-471b-4b78-86dc-5e2cabcf4f6e",
        "colab": {
          "base_uri": "https://localhost:8080/",
          "height": 136
        }
      },
      "source": [
        "list1=[1,2,3]\n",
        "list2=[10,20,30]\n",
        "print(list1+list2)\n",
        "print(list1*4)\n",
        "print(list1[1])\n",
        "print(list1[:2])\n",
        "print(list1[1:3])\n",
        "print(2 in list1)\n",
        "print(2 not in list1)"
      ],
      "execution_count": 0,
      "outputs": [
        {
          "output_type": "stream",
          "text": [
            "[1, 2, 3, 10, 20, 30]\n",
            "[1, 2, 3, 1, 2, 3, 1, 2, 3, 1, 2, 3]\n",
            "2\n",
            "[1, 2]\n",
            "[2, 3]\n",
            "True\n",
            "False\n"
          ],
          "name": "stdout"
        }
      ]
    },
    {
      "cell_type": "code",
      "metadata": {
        "id": "3klq6cYdBoaM",
        "colab_type": "code",
        "outputId": "555530c8-d4f0-4389-93e3-06ede687f3b4",
        "colab": {
          "base_uri": "https://localhost:8080/",
          "height": 34
        }
      },
      "source": [
        "list1=[1,2,3,\"python\"]\n",
        "print(list1[3][2])"
      ],
      "execution_count": 0,
      "outputs": [
        {
          "output_type": "stream",
          "text": [
            "t\n"
          ],
          "name": "stdout"
        }
      ]
    },
    {
      "cell_type": "code",
      "metadata": {
        "id": "aMIlFetnFe6Y",
        "colab_type": "code",
        "outputId": "f07e1885-86e9-4fe9-eb30-546756f4eafd",
        "colab": {
          "base_uri": "https://localhost:8080/",
          "height": 34
        }
      },
      "source": [
        "a=[1,2,3,4,5]\n",
        "print(a[3:0:-1])\n",
        "\n"
      ],
      "execution_count": 0,
      "outputs": [
        {
          "output_type": "stream",
          "text": [
            "[4, 3, 2]\n"
          ],
          "name": "stdout"
        }
      ]
    },
    {
      "cell_type": "code",
      "metadata": {
        "id": "1tDE5NKPFpTK",
        "colab_type": "code",
        "outputId": "1ca0e5a9-a784-4aa9-b757-d5e6d1fa8ff7",
        "colab": {
          "base_uri": "https://localhost:8080/",
          "height": 34
        }
      },
      "source": [
        "names1 = ['Amir', 'Bala', 'Charlie']\n",
        "names2 = [name.lower() for name in names1]\n",
        " \n",
        "print(names2[2][0])\n",
        "\n"
      ],
      "execution_count": 0,
      "outputs": [
        {
          "output_type": "stream",
          "text": [
            "c\n"
          ],
          "name": "stdout"
        }
      ]
    },
    {
      "cell_type": "code",
      "metadata": {
        "id": "Up4pisUaFu0S",
        "colab_type": "code",
        "outputId": "3e6a0ee9-8762-403f-ff05-33a07e146f49",
        "colab": {
          "base_uri": "https://localhost:8080/",
          "height": 34
        }
      },
      "source": [
        "def test(x = 1, y = 2):\n",
        "\n",
        "    x = x + y\n",
        "    y += 1\n",
        "    print(x, y)\n",
        "\n",
        "test()"
      ],
      "execution_count": 0,
      "outputs": [
        {
          "output_type": "stream",
          "text": [
            "3 3\n"
          ],
          "name": "stdout"
        }
      ]
    },
    {
      "cell_type": "code",
      "metadata": {
        "id": "wPS7CA_LF1YC",
        "colab_type": "code",
        "outputId": "aace4402-d84b-4175-c2f9-400077e7cc7d",
        "colab": {
          "base_uri": "https://localhost:8080/",
          "height": 34
        }
      },
      "source": [
        "\"Welcome to Python\".split()"
      ],
      "execution_count": 0,
      "outputs": [
        {
          "output_type": "execute_result",
          "data": {
            "text/plain": [
              "['Welcome', 'to', 'Python']"
            ]
          },
          "metadata": {
            "tags": []
          },
          "execution_count": 30
        }
      ]
    }
  ]
}