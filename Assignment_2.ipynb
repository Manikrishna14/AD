{
  "nbformat": 4,
  "nbformat_minor": 0,
  "metadata": {
    "colab": {
      "name": "Assignment-2",
      "provenance": [],
      "authorship_tag": "ABX9TyNXWhybvA7TGqbGjP7P0ROT",
      "include_colab_link": true
    },
    "kernelspec": {
      "name": "python3",
      "display_name": "Python 3"
    }
  },
  "cells": [
    {
      "cell_type": "markdown",
      "metadata": {
        "id": "view-in-github",
        "colab_type": "text"
      },
      "source": [
        "<a href=\"https://colab.research.google.com/github/Manikrishna14/AD/blob/master/Assignment_2.ipynb\" target=\"_parent\"><img src=\"https://colab.research.google.com/assets/colab-badge.svg\" alt=\"Open In Colab\"/></a>"
      ]
    },
    {
      "cell_type": "markdown",
      "metadata": {
        "id": "koheTjl67MY8",
        "colab_type": "text"
      },
      "source": [
        ""
      ]
    },
    {
      "cell_type": "markdown",
      "metadata": {
        "id": "lKx-ekV87N39",
        "colab_type": "text"
      },
      "source": [
        "Accept a string from the user and count o of vowels,consonants and special charactters"
      ]
    },
    {
      "cell_type": "code",
      "metadata": {
        "id": "8nKh8x1C7gl6",
        "colab_type": "code",
        "outputId": "f90067a3-829b-4dd1-a5c8-4b8aa5777719",
        "colab": {
          "base_uri": "https://localhost:8080/",
          "height": 51
        }
      },
      "source": [
        "str = input(\"Enter the string : \")\n",
        "vowels = 0\n",
        "digits = 0\n",
        "consonants = 0\n",
        "spaces = 0\n",
        "symbols = 0\n",
        "str = str.lower()\n",
        "for i in range(0, len(str)):\n",
        "    if(str[i] == 'a'or str[i] == 'e' or str[i] == 'i'\n",
        "       or str[i] == 'o' or str[i] == 'u'):\n",
        "        vowels = vowels + 1\n",
        "    elif((str[i] >= 'a'and str[i] <= 'z')):\n",
        "        consonants = consonants + 1\n",
        "    elif( str[i] >= '0' and str[i] <= '9'):\n",
        "        digits = digits + 1\n",
        "    elif (str[i] ==' '):\n",
        "        spaces = spaces + 1\n",
        "    else:\n",
        "       symbols = symbols + 1\n",
        "       print(\"Vowels: \", vowels);\n",
        "       print(\"Consonants: \", consonants);\n",
        "       print(\"Digits: \", digits);\n",
        "       print(\"White spaces: \", spaces);\n",
        "print(\"Symbols : \", symbols);"
      ],
      "execution_count": 0,
      "outputs": [
        {
          "output_type": "stream",
          "text": [
            "Enter the string : helloworld14\n",
            "Symbols :  0\n"
          ],
          "name": "stdout"
        }
      ]
    },
    {
      "cell_type": "markdown",
      "metadata": {
        "id": "TuaEbk3WAVxL",
        "colab_type": "text"
      },
      "source": [
        "Read the input as two limits and Print the output as Palindrome count between the two limits\n"
      ]
    },
    {
      "cell_type": "code",
      "metadata": {
        "id": "_UxtfknNAO_o",
        "colab_type": "code",
        "outputId": "aec2d9a9-8dd6-4f59-a642-fd77472e59ef",
        "colab": {
          "base_uri": "https://localhost:8080/",
          "height": 34
        }
      },
      "source": [
        "def isPalindrome(n: int) -> bool: \n",
        "  \n",
        "    # Find reverse of n \n",
        "    rev = 0\n",
        "    i = n \n",
        "    while i > 0: \n",
        "        rev = rev * 10 + i % 10\n",
        "        i //= 10\n",
        "  \n",
        "    # If n and rev are same,  \n",
        "    # then n is palindrome \n",
        "    return (n == rev) \n",
        "  \n",
        "# prints palindrome between min and max \n",
        "def countPal(minn: int, maxx: int) -> None: \n",
        "    for i in range(minn, maxx + 1): \n",
        "        if isPalindrome(i): \n",
        "            print(i, end = \" \") \n",
        "  \n",
        "# Driver Code \n",
        "if __name__ == \"__main__\": \n",
        "    countPal(100, 200) "
      ],
      "execution_count": 0,
      "outputs": [
        {
          "output_type": "stream",
          "text": [
            "101 111 121 131 141 151 161 171 181 191 "
          ],
          "name": "stdout"
        }
      ]
    },
    {
      "cell_type": "markdown",
      "metadata": {
        "id": "cKMSWIM1qLsE",
        "colab_type": "text"
      },
      "source": [
        "count the no.of pairs of a in the given string(Infosys InfyTQ)\n",
        "    string →  \"abbaaccbbaaa\"\n",
        "    output →  2\n"
      ]
    },
    {
      "cell_type": "code",
      "metadata": {
        "id": "11AReLKjqCZN",
        "colab_type": "code",
        "colab": {}
      },
      "source": [
        "str=input(\"enter string\")\n",
        "count=str.count(\"aa\")\n",
        "print(count)"
      ],
      "execution_count": 0,
      "outputs": []
    },
    {
      "cell_type": "code",
      "metadata": {
        "id": "L0j0W48CBnn0",
        "colab_type": "code",
        "outputId": "a64ba282-9c42-46fa-f6b5-469f65f89a8f",
        "colab": {
          "base_uri": "https://localhost:8080/",
          "height": 51
        }
      },
      "source": [
        "r=0\n",
        "i=int(input())\n",
        "n=i\n",
        "while(i>0):\n",
        "  o=i%10\n",
        "  r=r*10+o\n",
        "  i=i//10\n",
        "if(n==r):\n",
        "  print(n)\n",
        "else:\n",
        "  print(n+r)"
      ],
      "execution_count": 1,
      "outputs": [
        {
          "output_type": "stream",
          "text": [
            "127\n",
            "848\n"
          ],
          "name": "stdout"
        }
      ]
    },
    {
      "cell_type": "markdown",
      "metadata": {
        "id": "UX6yDCKUGtF4",
        "colab_type": "text"
      },
      "source": [
        "Accept input as a string and display sum of digits as the output "
      ]
    },
    {
      "cell_type": "code",
      "metadata": {
        "id": "un0YlQ6QFsr-",
        "colab_type": "code",
        "outputId": "e88abedf-3cb4-4dc6-a61c-86a6a622c11e",
        "colab": {
          "base_uri": "https://localhost:8080/",
          "height": 34
        }
      },
      "source": [
        "def sum_digits_string(str1):\n",
        "    sum_digit = 0\n",
        "    for x in str1:\n",
        "        if x.isdigit() == True:\n",
        "            z = int(x)\n",
        "            sum_digit = sum_digit + z\n",
        "\n",
        "    return sum_digit\n",
        "     \n",
        "print(sum_digits_string(\"123abcd45\"))"
      ],
      "execution_count": 0,
      "outputs": [
        {
          "output_type": "stream",
          "text": [
            "15\n"
          ],
          "name": "stdout"
        }
      ]
    },
    {
      "cell_type": "markdown",
      "metadata": {
        "id": "sJeugA4pImya",
        "colab_type": "text"
      },
      "source": [
        "Write a program to prompt for a score between 0.0 and 1.0. If the score is out of range, print an error. If the score is between 0.0 and 1.0, print a grade using the following table:"
      ]
    },
    {
      "cell_type": "code",
      "metadata": {
        "id": "LSGOXUkNHO02",
        "colab_type": "code",
        "outputId": "dc707f4d-3b75-454e-83ec-11b5ae208996",
        "colab": {
          "base_uri": "https://localhost:8080/",
          "height": 51
        }
      },
      "source": [
        "score = input(\"Enter Score: \")\n",
        "s =  float(score)\n",
        "x = 'Error'\n",
        "if s >= 0.9:\n",
        "\tx = 'A'\n",
        "elif s >=0.8:\n",
        "\tx='B'\n",
        "elif s >=0.7:\n",
        "\tx='C'\n",
        "elif s >= 0.6:\n",
        "\tx='D'\n",
        "elif s < .6:\n",
        "\tx ='F'\n",
        "else:\n",
        "\tx =\"Out of Range\"\n",
        "print (x)"
      ],
      "execution_count": 0,
      "outputs": [
        {
          "output_type": "stream",
          "text": [
            "Enter Score: 0.85\n",
            "B\n"
          ],
          "name": "stdout"
        }
      ]
    },
    {
      "cell_type": "markdown",
      "metadata": {
        "id": "tUuOUqsuJ81N",
        "colab_type": "text"
      },
      "source": [
        "Write a Python program which iterates the integers from 1 to 50. For multiples of three print \"Fizz\" instead of the number and for the multiples of five print \"Buzz\". For numbers which are multiples of both three and five print \"FizzBuzz\"."
      ]
    },
    {
      "cell_type": "code",
      "metadata": {
        "id": "BNrE7EMxJGdw",
        "colab_type": "code",
        "outputId": "6dfb597c-656e-4465-da3c-59d6f0412b10",
        "colab": {
          "base_uri": "https://localhost:8080/",
          "height": 884
        }
      },
      "source": [
        "for fizzbuzz in range(51):\n",
        "    if fizzbuzz % 3 == 0 and fizzbuzz % 5 == 0:\n",
        "        print(\"fizzbuzz\")\n",
        "        continue\n",
        "    elif fizzbuzz % 3 == 0:\n",
        "        print(\"fizz\")\n",
        "        continue\n",
        "    elif fizzbuzz % 5 == 0:\n",
        "        print(\"buzz\")\n",
        "        continue\n",
        "    print(fizzbuzz)"
      ],
      "execution_count": 0,
      "outputs": [
        {
          "output_type": "stream",
          "text": [
            "fizzbuzz\n",
            "1\n",
            "2\n",
            "fizz\n",
            "4\n",
            "buzz\n",
            "fizz\n",
            "7\n",
            "8\n",
            "fizz\n",
            "buzz\n",
            "11\n",
            "fizz\n",
            "13\n",
            "14\n",
            "fizzbuzz\n",
            "16\n",
            "17\n",
            "fizz\n",
            "19\n",
            "buzz\n",
            "fizz\n",
            "22\n",
            "23\n",
            "fizz\n",
            "buzz\n",
            "26\n",
            "fizz\n",
            "28\n",
            "29\n",
            "fizzbuzz\n",
            "31\n",
            "32\n",
            "fizz\n",
            "34\n",
            "buzz\n",
            "fizz\n",
            "37\n",
            "38\n",
            "fizz\n",
            "buzz\n",
            "41\n",
            "fizz\n",
            "43\n",
            "44\n",
            "fizzbuzz\n",
            "46\n",
            "47\n",
            "fizz\n",
            "49\n",
            "buzz\n"
          ],
          "name": "stdout"
        }
      ]
    },
    {
      "cell_type": "markdown",
      "metadata": {
        "id": "28G0SBQ_Kdzh",
        "colab_type": "text"
      },
      "source": [
        "Write a Python program to find the median of three values."
      ]
    },
    {
      "cell_type": "code",
      "metadata": {
        "id": "zS-oSqitKTO0",
        "colab_type": "code",
        "outputId": "d8978be2-21d0-4e77-d7f2-213bd87ede0e",
        "colab": {
          "base_uri": "https://localhost:8080/",
          "height": 85
        }
      },
      "source": [
        "a = float(input(\"Input first number: \"))\n",
        "b = float(input(\"Input second number: \"))\n",
        "c = float(input(\"Input third number: \"))\n",
        "if a > b:\n",
        "    if a < c:\n",
        "        median = a\n",
        "    elif b > c:\n",
        "        median = b\n",
        "    else:\n",
        "        median = c\n",
        "else:\n",
        "    if a > c:\n",
        "        median = a\n",
        "    elif b < c:\n",
        "        median = b\n",
        "    else:\n",
        "        median = c\n",
        "\n",
        "print(\"The median is\", median)"
      ],
      "execution_count": 0,
      "outputs": [
        {
          "output_type": "stream",
          "text": [
            "Input first number: 6\n",
            "Input second number: 4\n",
            "Input third number: 7\n",
            "The median is 6.0\n"
          ],
          "name": "stdout"
        }
      ]
    },
    {
      "cell_type": "markdown",
      "metadata": {
        "id": "eQUQGFt9mo39",
        "colab_type": "text"
      },
      "source": [
        "Test case1:\n",
        "        string →  \"((((()()()))))()\"\n",
        "        output →  8\n",
        "    Test case2:\n",
        "        string →  \"((()))()\"\n",
        "        Output →  4\n"
      ]
    },
    {
      "cell_type": "code",
      "metadata": {
        "id": "nIF8KDNgl-Vi",
        "colab_type": "code",
        "outputId": "bb4f8265-2f46-4ff8-e872-e2225922f6f0",
        "colab": {
          "base_uri": "https://localhost:8080/",
          "height": 51
        }
      },
      "source": [
        "str=input(\"enter the string\")\n",
        "c1=0\n",
        "c2=0\n",
        "for i in range(0,len(str)):\n",
        "  if(str[i]=='('):\n",
        "    c1=c1+1\n",
        "  else:\n",
        "    c2=c2+1\n",
        "if(c1==c2):\n",
        "  print(c1)"
      ],
      "execution_count": 0,
      "outputs": [
        {
          "output_type": "stream",
          "text": [
            "enter the string((((()()()))))()\n",
            "8\n"
          ],
          "name": "stdout"
        }
      ]
    },
    {
      "cell_type": "markdown",
      "metadata": {
        "id": "cKzqTN3NnWn2",
        "colab_type": "text"
      },
      "source": [
        "input:orange  →   output : puboif"
      ]
    },
    {
      "cell_type": "code",
      "metadata": {
        "id": "pfLOTpL1m6QL",
        "colab_type": "code",
        "outputId": "711e35e8-3ee4-4fe6-ad4f-2ba41c8c04af",
        "colab": {
          "base_uri": "https://localhost:8080/",
          "height": 34
        }
      },
      "source": [
        "def replaceCharacterType(str): \n",
        "    vowel = False\n",
        "    consonant = False\n",
        "    for i in range(0, len(str)):           \n",
        "        ch = str[i]    \n",
        "        if ( (ch >= 'a' and ch <= 'z') or \n",
        "             (ch >= 'A' and ch <= 'Z') ):  \n",
        "            if(isVowel(ch)):\n",
        "                vowel = True\n",
        "            else:\n",
        "                consonant = True\n",
        "            if (vowel == True): \n",
        "                print(chr(ord(ch) + 1), end =\" \")\n",
        "                vowel = False\n",
        "            else: \n",
        "                i=1\n",
        "                while True:\n",
        "                    tmp = chr(ord(ch)+i)\n",
        "                    if (isVowel(tmp)):\n",
        "                        print(tmp, end =\" \")\n",
        "                        break\n",
        "                    else:\n",
        "                        i +=1\n",
        "\n",
        "def isVowel(ch):\n",
        "    ch = ch.lower()   \n",
        "    if (ch == 'a' or ch == 'e' or ch == 'i' \n",
        "            or ch == 'o' or ch == 'u'):\n",
        "                return True\n",
        "    else:\n",
        "        return False\n",
        "str = \"orange\"\n",
        "replaceCharacterType(str)\n"
      ],
      "execution_count": 0,
      "outputs": [
        {
          "output_type": "stream",
          "text": [
            "p u b o i f "
          ],
          "name": "stdout"
        }
      ]
    },
    {
      "cell_type": "code",
      "metadata": {
        "id": "D4c-tw7qqUrW",
        "colab_type": "code",
        "colab": {}
      },
      "source": [
        "n=int(input(\"enter n\"))\n",
        "while True:\n",
        "  temp=n\n",
        "  rev=0\n",
        "  while(temp>0):\n",
        "    rem=temp%10\n",
        "    rev=(rev*10)+rem\n",
        "    temp=temp//10\n",
        "    if(n==rev):\n",
        "      print(rev)\n",
        "      break\n",
        "    else:\n",
        "      n=n+rev131"
      ],
      "execution_count": 0,
      "outputs": []
    }
  ]
}